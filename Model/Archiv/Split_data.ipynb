{
 "cells": [
  {
   "cell_type": "code",
   "execution_count": null,
   "metadata": {},
   "outputs": [],
   "source": [
    "#importing necessery libraries for future analysis of the dataset\n",
    "import pandas as pd\n",
    "\n",
    "#Read data\n",
    "fahrrad2= pd.read_json('/Users/tramduong/Desktop/Python/GitHub/MaennerML/Data/Fahrrad/Fahrrad2.json')\n",
    "\n",
    "#Create dataframes for Ubahn\n",
    "fahrrad2_1 = fahrrad2[fahrrad2['sensor'] == 'Accelerometer']\n",
    "fahrrad2_2 = fahrrad2[fahrrad2['sensor'] == 'Gyrosope']\n",
    "fahrrad2_3 = fahrrad2[fahrrad2['sensor'] == 'Location']\n",
    "\n",
    "fahrrad2_prepd = pd.concat([fahrrad2_1, fahrrad2_2, fahrrad2_3])\n",
    "fahrrad2_prepd.info()\n",
    "\n",
    "fahrrad2_prepd.to_json('/Users/tramduong/Desktop/Python/GitHub/MaennerML/Data/Fahrrad/Fahrrad2_test.json')"
   ]
  }
 ],
 "metadata": {
  "language_info": {
   "name": "python"
  },
  "orig_nbformat": 4
 },
 "nbformat": 4,
 "nbformat_minor": 2
}
